{
 "cells": [
  {
   "cell_type": "code",
   "execution_count": null,
   "metadata": {
    "colab": {
     "base_uri": "https://localhost:8080/"
    },
    "id": "sY77q-kzZqaQ",
    "outputId": "3b586ee3-faf8-4aae-816b-86f6110519c5"
   },
   "outputs": [],
   "source": [
    "# IMPORTANT: RUN THIS CELL IN ORDER TO IMPORT YOUR KAGGLE DATA SOURCES,\n",
    "# THEN FEEL FREE TO DELETE THIS CELL.\n",
    "# NOTE: THIS NOTEBOOK ENVIRONMENT DIFFERS FROM KAGGLE'S PYTHON\n",
    "# ENVIRONMENT SO THERE MAY BE MISSING LIBRARIES USED BY YOUR\n",
    "# NOTEBOOK.\n",
    "import kagglehub\n",
    "snap_amazon_fine_food_reviews_path = kagglehub.dataset_download('snap/amazon-fine-food-reviews')\n",
    "\n",
    "print('Data source import complete.',snap_amazon_fine_food_reviews_path)\n",
    "# import kagglehub\n",
    "\n",
    "# # Download latest version\n",
    "# path = kagglehub.dataset_download(\"snap/amazon-fine-food-reviews\")\n",
    "\n",
    "# print(\"Path to dataset files:\", path)"
   ]
  },
  {
   "cell_type": "markdown",
   "metadata": {
    "id": "a6-lruLzZqaV"
   },
   "source": [
    "# Step 0. Read in Data and NLTK Basics"
   ]
  },
  {
   "cell_type": "code",
   "execution_count": null,
   "metadata": {
    "id": "wLy-CHVPZqaV"
   },
   "outputs": [],
   "source": [
    "import pandas as pd\n",
    "import numpy as np\n",
    "import matplotlib.pyplot as plt\n",
    "import seaborn as sns\n",
    "\n",
    "plt.style.use('ggplot')\n",
    "\n",
    "import nltk"
   ]
  },
  {
   "cell_type": "code",
   "execution_count": null,
   "metadata": {
    "colab": {
     "base_uri": "https://localhost:8080/"
    },
    "id": "ZBQ2kSrcZqaV",
    "outputId": "8329abe1-147e-4ac5-eeb2-225cf9fbe23f"
   },
   "outputs": [],
   "source": [
    "# Read in data\n",
    "df = pd.read_csv('/root/.cache/kagglehub/datasets/snap/amazon-fine-food-reviews/versions/2/Reviews.csv')\n",
    "print(df.shape)\n",
    "df = df.head(500)\n",
    "print(df.shape)"
   ]
  },
  {
   "cell_type": "code",
   "execution_count": null,
   "metadata": {
    "colab": {
     "base_uri": "https://localhost:8080/",
     "height": 695
    },
    "id": "3gzcMExWZqaW",
    "outputId": "b3c40c20-e34f-416b-c181-b4211ad73a04"
   },
   "outputs": [],
   "source": [
    "df.head()"
   ]
  },
  {
   "cell_type": "markdown",
   "metadata": {
    "id": "ywS04ansZqaW"
   },
   "source": [
    "## Quick EDA"
   ]
  },
  {
   "cell_type": "code",
   "execution_count": null,
   "metadata": {
    "colab": {
     "base_uri": "https://localhost:8080/",
     "height": 487
    },
    "id": "S70hrPoTZqaW",
    "outputId": "2f89f6c1-74a7-41ea-846e-913ca41284fe"
   },
   "outputs": [],
   "source": [
    "ax = df['Score'].value_counts().sort_index() \\\n",
    "    .plot(kind='bar',\n",
    "          title='Count of Reviews by Stars',\n",
    "          figsize=(10, 5))\n",
    "ax.set_xlabel('Review Stars')\n",
    "plt.show()"
   ]
  },
  {
   "cell_type": "markdown",
   "metadata": {
    "id": "rU2i0cCDZqaW"
   },
   "source": [
    "## Basic NLTK"
   ]
  },
  {
   "cell_type": "code",
   "execution_count": null,
   "metadata": {
    "colab": {
     "base_uri": "https://localhost:8080/"
    },
    "id": "ywN8Iz_JZqaW",
    "outputId": "88caeeb8-e5ac-4f6b-9602-1ef1e02084b1"
   },
   "outputs": [],
   "source": [
    "example = df['Text'][50]\n",
    "print(example)"
   ]
  },
  {
   "cell_type": "code",
   "execution_count": null,
   "metadata": {
    "id": "LlgzvohhcBii"
   },
   "outputs": [],
   "source": [
    "import nltk\n",
    "from nltk.tokenize.punkt import PunktSentenceTokenizer, PunktTrainer\n",
    "from nltk.tokenize import word_tokenize\n",
    "\n"
   ]
  },
  {
   "cell_type": "code",
   "execution_count": null,
   "metadata": {
    "id": "9UT8LZ3mcW0L"
   },
   "outputs": [],
   "source": [
    "import shutil\n",
    "import nltk\n",
    "\n",
    "\n"
   ]
  },
  {
   "cell_type": "code",
   "execution_count": null,
   "metadata": {
    "colab": {
     "base_uri": "https://localhost:8080/"
    },
    "id": "yLpaQSy7c16a",
    "outputId": "9603a195-b21d-42a7-df2f-e707c4c7f583"
   },
   "outputs": [],
   "source": [
    "# Remove corrupted punkt directory\n",
    "shutil.rmtree('/root/nltk_data/tokenizers/punkt', ignore_errors=True)\n",
    "\n",
    "# Force fresh download\n",
    "nltk.download('punkt', force=True)\n",
    "nltk.download('punkt_tab')\n"
   ]
  },
  {
   "cell_type": "code",
   "execution_count": null,
   "metadata": {
    "id": "bj4-qPy2c3kX"
   },
   "outputs": [],
   "source": [
    "from nltk.tokenize import word_tokenize\n",
    "\n"
   ]
  },
  {
   "cell_type": "code",
   "execution_count": null,
   "metadata": {
    "colab": {
     "base_uri": "https://localhost:8080/"
    },
    "id": "xKKUqOENc5Ij",
    "outputId": "0ae8a4de-7dc9-4e4a-bf83-038f2dc19f58"
   },
   "outputs": [],
   "source": [
    "example = \"This is an example sentence. Tokenize it!\"\n",
    "tokens = word_tokenize(example)\n",
    "print(tokens)"
   ]
  },
  {
   "cell_type": "code",
   "execution_count": null,
   "metadata": {
    "colab": {
     "base_uri": "https://localhost:8080/"
    },
    "id": "f9chwbowdVSx",
    "outputId": "c3553ae6-7811-4800-a55a-1ab887f5d4c6"
   },
   "outputs": [],
   "source": [
    "nltk.download('averaged_perceptron_tagger_eng')"
   ]
  },
  {
   "cell_type": "code",
   "execution_count": null,
   "metadata": {
    "colab": {
     "base_uri": "https://localhost:8080/"
    },
    "id": "FxwRKGr6ZqaX",
    "outputId": "1bca2f1d-b70b-4e06-9202-02353da4c368"
   },
   "outputs": [],
   "source": [
    "tagged = nltk.pos_tag(tokens)\n",
    "tagged[:10]"
   ]
  },
  {
   "cell_type": "code",
   "execution_count": null,
   "metadata": {
    "colab": {
     "base_uri": "https://localhost:8080/"
    },
    "id": "hbyYU7ZhdY_t",
    "outputId": "97db0c1d-d8f5-421d-d38a-fbb8f149fb51"
   },
   "outputs": [],
   "source": [
    "nltk.download('maxent_ne_chunker_tab')\n",
    "nltk.download('words')"
   ]
  },
  {
   "cell_type": "code",
   "execution_count": null,
   "metadata": {
    "colab": {
     "base_uri": "https://localhost:8080/"
    },
    "id": "pxDsJYbWZqaX",
    "outputId": "9e9cd03d-af92-4ba9-f984-91ab52c5689f"
   },
   "outputs": [],
   "source": [
    "entities = nltk.chunk.ne_chunk(tagged)\n",
    "entities.pprint()"
   ]
  },
  {
   "cell_type": "markdown",
   "metadata": {
    "id": "EGMDDqRkZqaY"
   },
   "source": [
    "# Step 1. VADER Seniment Scoring\n",
    "\n",
    "We will use NLTK's `SentimentIntensityAnalyzer` to get the neg/neu/pos scores of the text.\n",
    "\n",
    "- This uses a \"bag of words\" approach:\n",
    "    1. Stop words are removed\n",
    "    2. each word is scored and combined to a total score."
   ]
  },
  {
   "cell_type": "code",
   "execution_count": null,
   "metadata": {
    "colab": {
     "base_uri": "https://localhost:8080/"
    },
    "id": "D1RyQW46did9",
    "outputId": "364237e4-1220-4063-a0d7-c01bbb075ae3"
   },
   "outputs": [],
   "source": [
    "nltk.download('vader_lexicon')"
   ]
  },
  {
   "cell_type": "code",
   "execution_count": null,
   "metadata": {
    "id": "GwhvyMeFZqaY"
   },
   "outputs": [],
   "source": [
    "from nltk.sentiment import SentimentIntensityAnalyzer\n",
    "from tqdm.notebook import tqdm\n",
    "\n",
    "sia = SentimentIntensityAnalyzer()"
   ]
  },
  {
   "cell_type": "code",
   "execution_count": null,
   "metadata": {
    "colab": {
     "base_uri": "https://localhost:8080/"
    },
    "id": "sx7_8lviZqaY",
    "outputId": "659f6d2f-60a7-48a6-b892-4758af041e0d"
   },
   "outputs": [],
   "source": [
    "sia.polarity_scores('I am so happy!')"
   ]
  },
  {
   "cell_type": "code",
   "execution_count": null,
   "metadata": {
    "colab": {
     "base_uri": "https://localhost:8080/"
    },
    "id": "UZ2u3SKHZqaY",
    "outputId": "b57f6ebd-cdd8-48b3-9833-045a46ac23ee"
   },
   "outputs": [],
   "source": [
    "sia.polarity_scores('This is the worst thing ever.')"
   ]
  },
  {
   "cell_type": "code",
   "execution_count": null,
   "metadata": {
    "colab": {
     "base_uri": "https://localhost:8080/"
    },
    "id": "pQUH33wpZqaY",
    "outputId": "ed1453c8-b4f0-4588-ac4c-85da4bbf149a"
   },
   "outputs": [],
   "source": [
    "sia.polarity_scores(example)"
   ]
  },
  {
   "cell_type": "code",
   "execution_count": null,
   "metadata": {
    "colab": {
     "base_uri": "https://localhost:8080/",
     "height": 49,
     "referenced_widgets": [
      "b7138a1e144641baa2ae40a7094a1599",
      "64fac32e94674b5d9758ab11b962407b",
      "20d774ed46284ae197507e7e1c15e2be",
      "b6eefac9184b4e98857cffff7cce68ac",
      "cc481421117446a397a90aaff2e9d247",
      "fec2a7d7489a4e908482cf69a1797180",
      "a18361f1bab24633b5de196786ebb333",
      "426a5301a0e44648b526ae3eeaec681d",
      "c116343b1b114dc7a4382c2a1c161869",
      "c305f851de9d44fdba6165388ca892a0",
      "feeda267ae8340feb180b60040a6969d"
     ]
    },
    "id": "103iHdAGZqaY",
    "outputId": "304e4fe8-f2e1-4b07-9b34-142faa33f7f3"
   },
   "outputs": [],
   "source": [
    "# Run the polarity score on the entire dataset\n",
    "res = {}\n",
    "for i, row in tqdm(df.iterrows(), total=len(df)):\n",
    "    text = row['Text']\n",
    "    myid = row['Id']\n",
    "    res[myid] = sia.polarity_scores(text)"
   ]
  },
  {
   "cell_type": "code",
   "execution_count": null,
   "metadata": {
    "id": "_0DAHq7_ZqaY"
   },
   "outputs": [],
   "source": [
    "vaders = pd.DataFrame(res).T\n",
    "vaders = vaders.reset_index().rename(columns={'index': 'Id'})\n",
    "vaders = vaders.merge(df, how='left')"
   ]
  },
  {
   "cell_type": "code",
   "execution_count": null,
   "metadata": {
    "colab": {
     "base_uri": "https://localhost:8080/",
     "height": 695
    },
    "id": "oeDxiHsgZqaY",
    "outputId": "89dbe673-c29a-438c-a651-d11f610d619a"
   },
   "outputs": [],
   "source": [
    "# Now we have sentiment score and metadata\n",
    "vaders.head()"
   ]
  },
  {
   "cell_type": "markdown",
   "metadata": {
    "id": "DQ2npHhiZqaY"
   },
   "source": [
    "## Plot VADER results"
   ]
  },
  {
   "cell_type": "code",
   "execution_count": null,
   "metadata": {
    "colab": {
     "base_uri": "https://localhost:8080/",
     "height": 477
    },
    "id": "c6e2VGnGZqaY",
    "outputId": "78e96764-0618-40d1-c8a3-ac7e728ae1c3"
   },
   "outputs": [],
   "source": [
    "ax = sns.barplot(data=vaders, x='Score', y='compound')\n",
    "ax.set_title('Compund Score by Amazon Star Review')\n",
    "plt.show()"
   ]
  },
  {
   "cell_type": "code",
   "execution_count": null,
   "metadata": {
    "colab": {
     "base_uri": "https://localhost:8080/",
     "height": 239
    },
    "id": "1XQGomjSZqaZ",
    "outputId": "a67f7287-0325-4b51-8385-8d5b9dbcd946"
   },
   "outputs": [],
   "source": [
    "fig, axs = plt.subplots(1, 3, figsize=(12, 3))\n",
    "sns.barplot(data=vaders, x='Score', y='pos', ax=axs[0])\n",
    "sns.barplot(data=vaders, x='Score', y='neu', ax=axs[1])\n",
    "sns.barplot(data=vaders, x='Score', y='neg', ax=axs[2])\n",
    "axs[0].set_title('Positive')\n",
    "axs[1].set_title('Neutral')\n",
    "axs[2].set_title('Negative')\n",
    "plt.tight_layout()\n",
    "plt.show()"
   ]
  },
  {
   "cell_type": "markdown",
   "metadata": {
    "id": "MHpqbcOEZqaZ"
   },
   "source": [
    "# Step 3. Roberta Pretrained Model\n",
    "\n",
    "- Use a model trained of a large corpus of data.\n",
    "- Transformer model accounts for the words but also the context related to other words."
   ]
  },
  {
   "cell_type": "code",
   "execution_count": null,
   "metadata": {
    "id": "0nhH5NJkZqaZ"
   },
   "outputs": [],
   "source": [
    "from transformers import AutoTokenizer\n",
    "from transformers import AutoModelForSequenceClassification\n",
    "from scipy.special import softmax"
   ]
  },
  {
   "cell_type": "code",
   "execution_count": null,
   "metadata": {
    "colab": {
     "base_uri": "https://localhost:8080/",
     "height": 301,
     "referenced_widgets": [
      "cb7c81344add4ac0a754cde5ab6488c0",
      "33a7214c1a4440c9b58bdf8969ee9203",
      "91e1c2479eda427dbc8b6656eb2a7afd",
      "9be4db1635524a3fb4e22d5b52005fbf",
      "79fe6826c70743358523e51aa9e96e1a",
      "ea9920bd4ba648cca7d677ef620c89ff",
      "6d29deab61554bafa4bf0708ebfa0d99",
      "dff4de2430024bd0a1ad256a587535d4",
      "f97d7b6210ab46b9b60098f3ceb20ffe",
      "79ae3b66212f4c248424ee780b97dc5d",
      "ad0856f8cfd54677b67e3219dd4a3ffb",
      "8f232aad0cac4f41a2d0947c15323f17",
      "bc0ce8b21b284763828bd89655ea4d21",
      "57f6665a550c4259abd994801176ae07",
      "5f14ad7132704a18a474f772dc547dea",
      "6fc5b033393e4fb693b2f691ab8de424",
      "33aac467ae7a4369984feaee3007dc30",
      "378b7fdfd9a148c79072a9201bcd66e2",
      "c24ce169358a423ca8a777d312395db2",
      "552962e6eebb49e681862bfaa46236e5",
      "c11910e2b1b94b908d5d378a29d67257",
      "462688c567dd4e1e8c714bee98aca756",
      "1852e68458a24ee7ad60206470ffaa9c",
      "bb3540280ec846efa5bb05d18937c509",
      "5e2fdccfb18149108578960cd2777917",
      "9757d5c3d0004220a5f6cbec4f6f2c08",
      "df82148cf7114977a6fc97a707238ea2",
      "da0b472991ba41eeaa8b150c19127258",
      "696b073f6ccf45c0a5421ed1749b43b7",
      "edda329a9e6f4eff9dccf93146b692ef",
      "33c902550e084dbe8ffce0b5e65e6a4f",
      "5bd791ad2ec34586aa860c323e48f94d",
      "26340c47bab24e4e912717099175249f",
      "a7f7e642aedf4da9bd8a9f3e09ea9530",
      "d4960555cc8947dfacb3b7a7a0b566d1",
      "c7df2ebb0fea4812b7594e8091c42c6a",
      "de7232f7874844baac04c1689c1e695b",
      "12fda04ee3ba4d9cba5fe406b2c7c67a",
      "c99faee4c12e40f48a54d6ea2dc15791",
      "18d1b2f64a584c4787611046e28e3d64",
      "046e579892a94a16a9335a84aca8c629",
      "f031c2c5716647c1927db274a09262cd",
      "e2f196b4b527487b85c9172bd1685c7a",
      "5b87d36d2d2842dba9fb49d31ebfde9d",
      "413e81291a3143399ddd79a143b01418",
      "246768302a4a4ed1b84270b12394a381",
      "c7a2591ca30b4c238ff0672e90080ba6",
      "3c018e0f8bcc4b8090d928c81c7e095f",
      "c5e96a1ce8da4a68a2918e4b9fbfca0a",
      "ac59b245c3dc45d3b8678f71ff4d4c57",
      "1ff178f0b96f450d937c7b3d0d3046ad",
      "0290b6a0563e4108b97dffa6d1d77073",
      "339fb93793d942b8a7689c1d247a144e",
      "8e04c611ec11469fa6c54bb29253a8a6",
      "2ecf0bf62da944f18507f44fc9b9b957"
     ]
    },
    "id": "6ZJ8WPrPZqaZ",
    "outputId": "25c30479-e9a4-4492-c474-e3067b58b07e"
   },
   "outputs": [],
   "source": [
    "MODEL = f\"cardiffnlp/twitter-roberta-base-sentiment\"\n",
    "tokenizer = AutoTokenizer.from_pretrained(MODEL)\n",
    "model = AutoModelForSequenceClassification.from_pretrained(MODEL)"
   ]
  },
  {
   "cell_type": "code",
   "execution_count": null,
   "metadata": {
    "colab": {
     "base_uri": "https://localhost:8080/"
    },
    "id": "Pf3uIuAxZqaZ",
    "outputId": "4e948530-7473-4a26-fdd0-c6c9162c4d8d"
   },
   "outputs": [],
   "source": [
    "# VADER results on example\n",
    "print(example)\n",
    "sia.polarity_scores(example)"
   ]
  },
  {
   "cell_type": "code",
   "execution_count": null,
   "metadata": {
    "colab": {
     "base_uri": "https://localhost:8080/"
    },
    "id": "Z0EhSa1-ZqaZ",
    "outputId": "a93c333b-4bc2-486d-fd12-94b04d382cf5"
   },
   "outputs": [],
   "source": [
    "# Run for Roberta Model\n",
    "encoded_text = tokenizer(example, return_tensors='pt')\n",
    "output = model(**encoded_text)\n",
    "scores = output[0][0].detach().numpy()\n",
    "scores = softmax(scores)\n",
    "scores_dict = {\n",
    "    'roberta_neg' : scores[0],\n",
    "    'roberta_neu' : scores[1],\n",
    "    'roberta_pos' : scores[2]\n",
    "}\n",
    "print(scores_dict)"
   ]
  },
  {
   "cell_type": "code",
   "execution_count": null,
   "metadata": {
    "id": "OIPxJ2HLZqaZ"
   },
   "outputs": [],
   "source": [
    "def polarity_scores_roberta(example):\n",
    "    encoded_text = tokenizer(example, return_tensors='pt')\n",
    "    output = model(**encoded_text)\n",
    "    scores = output[0][0].detach().numpy()\n",
    "    scores = softmax(scores)\n",
    "    scores_dict = {\n",
    "        'roberta_neg' : scores[0],\n",
    "        'roberta_neu' : scores[1],\n",
    "        'roberta_pos' : scores[2]\n",
    "    }\n",
    "    return scores_dict"
   ]
  },
  {
   "cell_type": "code",
   "execution_count": null,
   "metadata": {
    "colab": {
     "base_uri": "https://localhost:8080/",
     "height": 84,
     "referenced_widgets": [
      "2cf9812e99cb48d8a63d7592eb709603",
      "9d3796c7f64147f7b907a35f569c16db",
      "f0abb5ba00944f38b613b67d62661596",
      "5c111ec7cd6949dfbd1ddfbbc2dbf9ce",
      "5d98e28f90fa454d8deda275d5c2a910",
      "71d7b28de8f34662b6a9b79f9d8159a5",
      "24dc7597607e46f5848c5cf7acfb2b74",
      "c8dd4df97867457087cfff1ffdb472b8",
      "a7a991e185af4ab2a397a2c2d303ac92",
      "a5d1a67224ff403aad306c5a59e650d8",
      "db4013341bdd49aa8710a91e8cf3b559"
     ]
    },
    "id": "SpGVmwN4ZqaZ",
    "outputId": "27ca1ba9-ff5c-46c4-d66a-d19777c71428"
   },
   "outputs": [],
   "source": [
    "res = {}\n",
    "for i, row in tqdm(df.iterrows(), total=len(df)):\n",
    "    try:\n",
    "        text = row['Text']\n",
    "        myid = row['Id']\n",
    "        vader_result = sia.polarity_scores(text)\n",
    "        vader_result_rename = {}\n",
    "        for key, value in vader_result.items():\n",
    "            vader_result_rename[f\"vader_{key}\"] = value\n",
    "        roberta_result = polarity_scores_roberta(text)\n",
    "        both = {**vader_result_rename, **roberta_result}\n",
    "        res[myid] = both\n",
    "    except RuntimeError:\n",
    "        print(f'Broke for id {myid}')"
   ]
  },
  {
   "cell_type": "code",
   "execution_count": null,
   "metadata": {
    "id": "AFpF_4NZZqaZ"
   },
   "outputs": [],
   "source": [
    "results_df = pd.DataFrame(res).T\n",
    "results_df = results_df.reset_index().rename(columns={'index': 'Id'})\n",
    "results_df = results_df.merge(df, how='left')"
   ]
  },
  {
   "cell_type": "markdown",
   "metadata": {
    "id": "V3dCp8WsZqaZ"
   },
   "source": [
    "## Compare Scores between models"
   ]
  },
  {
   "cell_type": "code",
   "execution_count": null,
   "metadata": {
    "colab": {
     "base_uri": "https://localhost:8080/"
    },
    "id": "Cd8ZmewNZqaa",
    "outputId": "c99f10fc-75df-421c-d936-6915e4052ff0"
   },
   "outputs": [],
   "source": [
    "results_df.columns"
   ]
  },
  {
   "cell_type": "markdown",
   "metadata": {
    "id": "Xy75pd4eZqaa"
   },
   "source": [
    "# Step 3. Combine and compare"
   ]
  },
  {
   "cell_type": "code",
   "execution_count": null,
   "metadata": {
    "colab": {
     "base_uri": "https://localhost:8080/",
     "height": 879
    },
    "id": "PiOM8kXAZqaa",
    "outputId": "e78d3b19-97ed-4403-ed9f-0328802654ee"
   },
   "outputs": [],
   "source": [
    "sns.pairplot(data=results_df,\n",
    "             vars=['vader_neg', 'vader_neu', 'vader_pos',\n",
    "                  'roberta_neg', 'roberta_neu', 'roberta_pos'],\n",
    "            hue='Score',\n",
    "            palette='tab10')\n",
    "plt.show()"
   ]
  },
  {
   "cell_type": "markdown",
   "metadata": {
    "id": "XoAB7rPgZqaa"
   },
   "source": [
    "# Step 4: Review Examples:\n",
    "\n",
    "- Positive 1-Star and Negative 5-Star Reviews\n",
    "\n",
    "Lets look at some examples where the model scoring and review score differ the most."
   ]
  },
  {
   "cell_type": "code",
   "execution_count": null,
   "metadata": {
    "colab": {
     "base_uri": "https://localhost:8080/",
     "height": 53
    },
    "id": "-llKkaSDZqaa",
    "outputId": "721ce0ee-4f11-422f-9102-6432cdbd2d78"
   },
   "outputs": [],
   "source": [
    "results_df.query('Score == 1') \\\n",
    "    .sort_values('roberta_pos', ascending=False)['Text'].values[0]"
   ]
  },
  {
   "cell_type": "code",
   "execution_count": null,
   "metadata": {
    "colab": {
     "base_uri": "https://localhost:8080/",
     "height": 35
    },
    "id": "XvOUQVZsZqaa",
    "outputId": "9907e954-d1e8-4c1d-e848-bd9a741e9917"
   },
   "outputs": [],
   "source": [
    "results_df.query('Score == 1') \\\n",
    "    .sort_values('vader_pos', ascending=False)['Text'].values[0]"
   ]
  },
  {
   "cell_type": "code",
   "execution_count": null,
   "metadata": {
    "id": "IzAdOk0xZqag"
   },
   "outputs": [],
   "source": [
    "# nevative sentiment 5-Star view"
   ]
  },
  {
   "cell_type": "code",
   "execution_count": null,
   "metadata": {
    "colab": {
     "base_uri": "https://localhost:8080/",
     "height": 35
    },
    "id": "22EZa0F8Zqag",
    "outputId": "55e6134e-6ec8-4593-ad81-41937dc62492"
   },
   "outputs": [],
   "source": [
    "results_df.query('Score == 5') \\\n",
    "    .sort_values('roberta_neg', ascending=False)['Text'].values[0]"
   ]
  },
  {
   "cell_type": "code",
   "execution_count": null,
   "metadata": {
    "colab": {
     "base_uri": "https://localhost:8080/",
     "height": 35
    },
    "id": "Lxwo73OzZqag",
    "outputId": "a7a79f01-d75a-4e34-a1d4-eb8d8d9ded83"
   },
   "outputs": [],
   "source": [
    "results_df.query('Score == 5') \\\n",
    "    .sort_values('vader_neg', ascending=False)['Text'].values[0]"
   ]
  },
  {
   "cell_type": "markdown",
   "metadata": {
    "id": "pnM-c8UCZqag"
   },
   "source": [
    "# Extra: The Transformers Pipeline\n",
    "- Quick & easy way to run sentiment predictions"
   ]
  },
  {
   "cell_type": "code",
   "execution_count": null,
   "metadata": {
    "colab": {
     "base_uri": "https://localhost:8080/",
     "height": 217,
     "referenced_widgets": [
      "b8cdfc207097432f92fabb5160805c74",
      "08db86dac1ef49109367221417a9a5f9",
      "5dc829e660aa46319fd66622b771be94",
      "79566417bc56487bb6977bf10257ccea",
      "abbd45c8eb8843a5ad2dcd4c7b7e66b1",
      "7cb6ab4ba3214705abacfbd9fcf58325",
      "02bebee6e25249879274696047b8ff51",
      "6d6707fdba154cd6a48ace11053af961",
      "a17022c714a14e46adc84d884d1a6ff3",
      "2ac13087a10c4a1a8504afcfa3c0d50f",
      "38b9adeb46ed47ee929c945505d62ebd",
      "0a33bd4041b74292aa8d1026554a8ee5",
      "54eac58ecb6a41f0a584cd46224bf686",
      "51d61d9ae3374fd0b6d6729b6255aeb2",
      "a5b1171e76d64a11aac98cd3423b080d",
      "ddcd6fdb767d4855805578ad4595822e",
      "975ba55b655a464aaedd8a08c9b8f556",
      "f5407df0541a484ea6aa9f4cdda9314b",
      "7c8f0ce395bc4f4fbf50441f86df7a13",
      "06b7c96c3a22471a8781496f61bf4ac3",
      "3988fa8a1d5b4b4b9c468c0db2a7972b",
      "97a3c36f90dd4d5387c9833b69cafa99",
      "978d0593c84a498887ee6982f28e9043",
      "0378e9e38f344a24987057ecb8e4cd0d",
      "30aab9d64a7e40709cf4c3ef73bf9e1f",
      "33c6b27969034a45bfeb2c4f9fbab543",
      "29ac257eb4e844e5af84523b40de279e",
      "12ad037072c3427ca03cdde56650e351",
      "58efe6d89f084cb485ab4ca70f7dd2c7",
      "ca886f5e3c144ee9b5bfc05191f87de9",
      "3f241dc553e24e3baf4171cf01ff81ee",
      "d9fb682c6d074486a0c64ac944311871",
      "98c464cae0674738890ecb9c55c0e3e6",
      "e925368037ba435789c54a4047b2fdee",
      "e9957686d92842a3954ea743334d947f",
      "b8767d84ec364a90b79b3d4c9a4841ef",
      "f4c7b04c062a4977adad14c99f7ed924",
      "69624e17f22b404da9448e356c6d2ec0",
      "36446f13173944198a448042bd006bc2",
      "2134f98d176f4a0881c48e3e3ae6b6af",
      "4b409f4e28db4658adb0c2e645c3faaf",
      "788a0e92330c4f439fc8b3407566868b",
      "c394b9befa494944b881a10bab858cd3",
      "078843da6570431fad52f47619e11f56"
     ]
    },
    "id": "NxI8ERDmZqag",
    "outputId": "aa7fd42c-70d2-41aa-cd34-a02890a5d5f8"
   },
   "outputs": [],
   "source": [
    "from transformers import pipeline\n",
    "\n",
    "sent_pipeline = pipeline(\"sentiment-analysis\")"
   ]
  },
  {
   "cell_type": "code",
   "execution_count": null,
   "metadata": {
    "colab": {
     "base_uri": "https://localhost:8080/"
    },
    "id": "sY4ELMkZZqag",
    "outputId": "a74ebf45-7b40-4701-8108-84dc0fdf52b9"
   },
   "outputs": [],
   "source": [
    "sent_pipeline('I love sentiment analysis!')"
   ]
  },
  {
   "cell_type": "code",
   "execution_count": null,
   "metadata": {
    "colab": {
     "base_uri": "https://localhost:8080/"
    },
    "id": "AT1pLoehZqag",
    "outputId": "702282e6-fb40-48d8-b490-8bb022a09725"
   },
   "outputs": [],
   "source": [
    "sent_pipeline('Make sure to like and subscribe!')"
   ]
  },
  {
   "cell_type": "code",
   "execution_count": null,
   "metadata": {
    "colab": {
     "base_uri": "https://localhost:8080/"
    },
    "id": "F3Y0-M0nZqag",
    "outputId": "0e1de229-ee98-42ff-aefc-fd54dae9aa16"
   },
   "outputs": [],
   "source": [
    "sent_pipeline('booo')"
   ]
  },
  {
   "cell_type": "markdown",
   "metadata": {
    "id": "0mXMfIvPZqag"
   },
   "source": [
    "# The End"
   ]
  }
 ],
 "metadata": {
  "accelerator": "GPU",
  "colab": {
   "gpuType": "T4",
   "provenance": []
  },
  "kernelspec": {
   "display_name": "Python 3",
   "name": "python3"
  },
  "language_info": {
   "codemirror_mode": {
    "name": "ipython",
    "version": 3
   },
   "file_extension": ".py",
   "mimetype": "text/x-python",
   "name": "python",
   "nbconvert_exporter": "python",
   "pygments_lexer": "ipython3",
   "version": "3.6.4"
  }
 },
 "nbformat": 4,
 "nbformat_minor": 0
}
